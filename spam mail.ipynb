{
 "cells": [
  {
   "cell_type": "code",
   "execution_count": 7,
   "id": "927837cc",
   "metadata": {},
   "outputs": [
    {
     "name": "stdout",
     "output_type": "stream",
     "text": [
      "0       Go until jurong point, crazy.. Available only ...\n",
      "1                           Ok lar... Joking wif u oni...\n",
      "2       Free entry in 2 a wkly comp to win FA Cup fina...\n",
      "3       U dun say so early hor... U c already then say...\n",
      "4       Nah I don't think he goes to usf, he lives aro...\n",
      "                              ...                        \n",
      "5567    This is the 2nd time we have tried 2 contact u...\n",
      "5568                 Will ü b going to esplanade fr home?\n",
      "5569    Pity, * was in mood for that. So...any other s...\n",
      "5570    The guy did some bitching but I acted like i'd...\n",
      "5571                           Rofl. Its true to its name\n",
      "Name: Message, Length: 5572, dtype: object\n",
      "0       1\n",
      "1       1\n",
      "2       0\n",
      "3       1\n",
      "4       1\n",
      "       ..\n",
      "5567    0\n",
      "5568    1\n",
      "5569    1\n",
      "5570    1\n",
      "5571    1\n",
      "Name: Category, Length: 5572, dtype: object\n",
      "(4179,)\n",
      "(1393,)\n"
     ]
    },
    {
     "data": {
      "text/plain": [
       "<AxesSubplot:>"
      ]
     },
     "execution_count": 7,
     "metadata": {},
     "output_type": "execute_result"
    },
    {
     "data": {
      "image/png": "[encoded data removed]",
      "text/plain": [
       "<Figure size 640x480 with 2 Axes>"
      ]
     },
     "metadata": {},
     "output_type": "display_data"
    }
   ],
   "source": [
    "#import packages\n",
    "import seaborn as sn\n",
    "import pandas as pd\n",
    "import numpy as np\n",
    "from sklearn.model_selection import train_test_split\n",
    "from sklearn.feature_extraction.text import CountVectorizer\n",
    "from sklearn.naive_bayes import MultinomialNB\n",
    "from sklearn.metrics import classification_report, confusion_matrix, accuracy_score\n",
    "#import data\n",
    "spam_df = pd.read_csv(\"mail_data.csv\")\n",
    "mail_data = spam_df.where((pd.notnull(spam_df)),'')\n",
    "mail_data.head()\n",
    "mail_data.shape\n",
    "mail_data.loc[mail_data['Category'] == 'spam', 'Category',] = 0\n",
    "mail_data.loc[mail_data['Category'] == 'ham', 'Category',] = 1\n",
    "X = mail_data['Message']\n",
    "Y = mail_data['Category']\n",
    "print(X)\n",
    "print(Y)\n",
    "#inspect data\n",
    "spam_df.groupby('Category').describe()\n",
    "#turn a spam\\ham into numerical data, creating a new column called 'spam'\n",
    "spam_df['spam']=spam_df['Category'].apply(lambda x: 1 if x == 'spam' else 0)\n",
    "spam_df\n",
    "#create train\\test split\n",
    "x_train, x_test, y_train, y_test = train_test_split(spam_df.Message, spam_df.spam)\n",
    "print(x_train.shape)\n",
    "print(x_test.shape)\n",
    "x_train.describe()\n",
    "cv=CountVectorizer()\n",
    "x_train_count=cv.fit_transform(x_train.values)\n",
    "x_train_count\n",
    "x_train_count.toarray()\n",
    "#train model\n",
    "model=MultinomialNB()\n",
    "model.fit(x_train_count, y_train)\n",
    "#pre test ham\n",
    "email_ham=[\"hey wanna meet up for the game?\"]\n",
    "email_ham_count=cv.transform(email_ham)\n",
    "model.predict(email_ham_count)\n",
    "#pre-test spam\n",
    "email_spam=[\"reward money click\"]\n",
    "email_spam_count=cv.transform(email_spam)\n",
    "model.predict(email_spam_count)\n",
    "#test model\n",
    "x_test_count=cv.transform(x_test)\n",
    "model.score(x_test_count,y_test)\n",
    "y_pred = model.predict(cv.transform(x_test))\n",
    "con_mat = pd.DataFrame(confusion_matrix(y_test, y_pred), [\"Spam\",\"Ham\"], [\"Spam\",\"Ham\"])\n",
    "sn.heatmap(con_mat, annot=True, fmt=\"\")"
   ]
  },
  {
   "cell_type": "code",
   "execution_count": null,
   "id": "6aa9efb8",
   "metadata": {},
   "outputs": [],
   "source": []
  }
 ],
 "metadata": {
  "kernelspec": {
   "display_name": "Python 3 (ipykernel)",
   "language": "python",
   "name": "python3"
  },
  "language_info": {
   "codemirror_mode": {
    "name": "ipython",
    "version": 3
   },
   "file_extension": ".py",
   "mimetype": "text/x-python",
   "name": "python",
   "nbconvert_exporter": "python",
   "pygments_lexer": "ipython3",
   "version": "3.9.13"
  }
 },
 "nbformat": 4,
 "nbformat_minor": 5
}
